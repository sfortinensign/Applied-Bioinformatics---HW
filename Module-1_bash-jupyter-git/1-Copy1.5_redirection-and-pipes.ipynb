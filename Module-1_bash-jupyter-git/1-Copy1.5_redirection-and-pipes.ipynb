{
 "cells": [
  {
   "cell_type": "markdown",
   "metadata": {},
   "source": [
    "# 1.5 Redirection and pipes"
   ]
  },
  {
   "cell_type": "markdown",
   "metadata": {},
   "source": [
    "#### How many txt files are in `data/tmp`?\n",
    "```\n",
    "%%bash\n",
    "ls data/tmp/*.txt | wc -l\n",
    "```"
   ]
  },
  {
   "cell_type": "code",
   "execution_count": 1,
   "metadata": {},
   "outputs": [
    {
     "name": "stdout",
     "output_type": "stream",
     "text": [
      "191\n"
     ]
    }
   ],
   "source": [
    "%%bash\n",
    "ls data/tmp/*.txt | wc -l"
   ]
  },
  {
   "cell_type": "markdown",
   "metadata": {},
   "source": [
    "#### save list of txt files in `data/tmp` to a file list, and append the list of files in `data/art`.\n",
    "Find and correct the error...\n",
    "```\n",
    "%%bash\n",
    "ls data/tmp/*.txt > file_list.txt\n",
    "ls data/art > file_list.txt\n",
    "```"
   ]
  },
  {
   "cell_type": "code",
   "execution_count": 2,
   "metadata": {},
   "outputs": [],
   "source": [
    "%%bash\n",
    "ls data/tmp/*.txt > file_list.txt\n",
    "ls data/art >> file_list.txt"
   ]
  },
  {
   "cell_type": "code",
   "execution_count": 3,
   "metadata": {},
   "outputs": [
    {
     "name": "stdout",
     "output_type": "stream",
     "text": [
      "data/tmp/file1.txt\n",
      "data/tmp/file10.txt\n",
      "data/tmp/file100.txt\n",
      "data/tmp/file101.txt\n",
      "data/tmp/file102.txt\n",
      "data/tmp/file103.txt\n",
      "data/tmp/file104.txt\n",
      "data/tmp/file105.txt\n",
      "data/tmp/file106.txt\n",
      "data/tmp/file107.txt\n",
      "data/tmp/file108.txt\n",
      "data/tmp/file109.txt\n",
      "data/tmp/file11.txt\n",
      "data/tmp/file110.txt\n",
      "data/tmp/file111.txt\n",
      "data/tmp/file114.txt\n",
      "data/tmp/file115.txt\n",
      "data/tmp/file116.txt\n",
      "data/tmp/file117.txt\n",
      "data/tmp/file118.txt\n",
      "data/tmp/file119.txt\n",
      "data/tmp/file12.txt\n",
      "data/tmp/file120.txt\n",
      "data/tmp/file121.txt\n",
      "data/tmp/file122.txt\n",
      "data/tmp/file123.txt\n",
      "data/tmp/file124.txt\n",
      "data/tmp/file125.txt\n",
      "data/tmp/file126.txt\n",
      "data/tmp/file127.txt\n",
      "data/tmp/file128.txt\n",
      "data/tmp/file129.txt\n",
      "data/tmp/file13.txt\n",
      "data/tmp/file130.txt\n",
      "data/tmp/file131.txt\n",
      "data/tmp/file132.txt\n",
      "data/tmp/file133.txt\n",
      "data/tmp/file134.txt\n",
      "data/tmp/file135.txt\n",
      "data/tmp/file136.txt\n",
      "data/tmp/file138.txt\n",
      "data/tmp/file139.txt\n",
      "data/tmp/file14.txt\n",
      "data/tmp/file140.txt\n",
      "data/tmp/file141.txt\n",
      "data/tmp/file142.txt\n",
      "data/tmp/file143.txt\n",
      "data/tmp/file144.txt\n",
      "data/tmp/file145.txt\n",
      "data/tmp/file146.txt\n",
      "data/tmp/file147.txt\n",
      "data/tmp/file148.txt\n",
      "data/tmp/file149.txt\n",
      "data/tmp/file15.txt\n",
      "data/tmp/file150.txt\n",
      "data/tmp/file151.txt\n",
      "data/tmp/file152.txt\n",
      "data/tmp/file153.txt\n",
      "data/tmp/file154.txt\n",
      "data/tmp/file155.txt\n",
      "data/tmp/file156.txt\n",
      "data/tmp/file157.txt\n",
      "data/tmp/file158.txt\n",
      "data/tmp/file159.txt\n",
      "data/tmp/file16.txt\n",
      "data/tmp/file160.txt\n",
      "data/tmp/file161.txt\n",
      "data/tmp/file162.txt\n",
      "data/tmp/file163.txt\n",
      "data/tmp/file164.txt\n",
      "data/tmp/file165.txt\n",
      "data/tmp/file166.txt\n",
      "data/tmp/file167.txt\n",
      "data/tmp/file168.txt\n",
      "data/tmp/file169.txt\n",
      "data/tmp/file17.txt\n",
      "data/tmp/file170.txt\n",
      "data/tmp/file171.txt\n",
      "data/tmp/file172.txt\n",
      "data/tmp/file173.txt\n",
      "data/tmp/file174.txt\n",
      "data/tmp/file175.txt\n",
      "data/tmp/file176.txt\n",
      "data/tmp/file177.txt\n",
      "data/tmp/file178.txt\n",
      "data/tmp/file179.txt\n",
      "data/tmp/file18.txt\n",
      "data/tmp/file180.txt\n",
      "data/tmp/file181.txt\n",
      "data/tmp/file182.txt\n",
      "data/tmp/file183.txt\n",
      "data/tmp/file184.txt\n",
      "data/tmp/file185.txt\n",
      "data/tmp/file186.txt\n",
      "data/tmp/file187.txt\n",
      "data/tmp/file188.txt\n",
      "data/tmp/file189.txt\n",
      "data/tmp/file19.txt\n",
      "data/tmp/file190.txt\n",
      "data/tmp/file191.txt\n",
      "data/tmp/file192.txt\n",
      "data/tmp/file193.txt\n",
      "data/tmp/file194.txt\n",
      "data/tmp/file195.txt\n",
      "data/tmp/file196.txt\n",
      "data/tmp/file197.txt\n",
      "data/tmp/file198.txt\n",
      "data/tmp/file199.txt\n",
      "data/tmp/file2.txt\n",
      "data/tmp/file200.txt\n",
      "data/tmp/file21.txt\n",
      "data/tmp/file22.txt\n",
      "data/tmp/file23.txt\n",
      "data/tmp/file24.txt\n",
      "data/tmp/file25.txt\n",
      "data/tmp/file26.txt\n",
      "data/tmp/file27.txt\n",
      "data/tmp/file28.txt\n",
      "data/tmp/file29.txt\n",
      "data/tmp/file3.txt\n",
      "data/tmp/file30.txt\n",
      "data/tmp/file31.txt\n",
      "data/tmp/file32.txt\n",
      "data/tmp/file33.txt\n",
      "data/tmp/file34.txt\n",
      "data/tmp/file35.txt\n",
      "data/tmp/file36.txt\n",
      "data/tmp/file38.txt\n",
      "data/tmp/file39.txt\n",
      "data/tmp/file4.txt\n",
      "data/tmp/file40.txt\n",
      "data/tmp/file41.txt\n",
      "data/tmp/file42.txt\n",
      "data/tmp/file44.txt\n",
      "data/tmp/file45.txt\n",
      "data/tmp/file46.txt\n",
      "data/tmp/file47.txt\n",
      "data/tmp/file48.txt\n",
      "data/tmp/file49.txt\n",
      "data/tmp/file5.txt\n",
      "data/tmp/file50.txt\n",
      "data/tmp/file51.txt\n",
      "data/tmp/file52.txt\n",
      "data/tmp/file53.txt\n",
      "data/tmp/file54.txt\n",
      "data/tmp/file55.txt\n",
      "data/tmp/file56.txt\n",
      "data/tmp/file57.txt\n",
      "data/tmp/file58.txt\n",
      "data/tmp/file59.txt\n",
      "data/tmp/file6.txt\n",
      "data/tmp/file60.txt\n",
      "data/tmp/file61.txt\n",
      "data/tmp/file62.txt\n",
      "data/tmp/file64.txt\n",
      "data/tmp/file65.txt\n",
      "data/tmp/file66.txt\n",
      "data/tmp/file67.txt\n",
      "data/tmp/file68.txt\n",
      "data/tmp/file69.txt\n",
      "data/tmp/file7.txt\n",
      "data/tmp/file70.txt\n",
      "data/tmp/file71.txt\n",
      "data/tmp/file72.txt\n",
      "data/tmp/file73.txt\n",
      "data/tmp/file74.txt\n",
      "data/tmp/file75.txt\n",
      "data/tmp/file76.txt\n",
      "data/tmp/file77.txt\n",
      "data/tmp/file78.txt\n",
      "data/tmp/file79.txt\n",
      "data/tmp/file8.txt\n",
      "data/tmp/file80.txt\n",
      "data/tmp/file81.txt\n",
      "data/tmp/file82.txt\n",
      "data/tmp/file84.txt\n",
      "data/tmp/file85.txt\n",
      "data/tmp/file86.txt\n",
      "data/tmp/file87.txt\n",
      "data/tmp/file88.txt\n",
      "data/tmp/file89.txt\n",
      "data/tmp/file9.txt\n",
      "data/tmp/file90.txt\n",
      "data/tmp/file91.txt\n",
      "data/tmp/file92.txt\n",
      "data/tmp/file93.txt\n",
      "data/tmp/file94.txt\n",
      "data/tmp/file96.txt\n",
      "data/tmp/file97.txt\n",
      "data/tmp/file98.txt\n",
      "data/tmp/file99.txt\n",
      "artists.txt\n"
     ]
    }
   ],
   "source": [
    "%%bash\n",
    "less file_list.txt"
   ]
  },
  {
   "cell_type": "markdown",
   "metadata": {},
   "source": [
    "#### Count the number of painters in `artists.txt` after filtering out the French painters\n",
    "```\n",
    "%%bash\n",
    "grep painter data/art/artists.txt | grep -v 'French painter' | wc -l\n",
    "```"
   ]
  },
  {
   "cell_type": "code",
   "execution_count": 5,
   "metadata": {},
   "outputs": [
    {
     "name": "stdout",
     "output_type": "stream",
     "text": [
      "89\n"
     ]
    }
   ],
   "source": [
    "%%bash\n",
    "grep painter data/art/artists.txt | grep -v 'French painter' | wc -l"
   ]
  },
  {
   "cell_type": "markdown",
   "metadata": {},
   "source": [
    "## Homework"
   ]
  },
  {
   "cell_type": "markdown",
   "metadata": {},
   "source": [
    "### HW1: Count the number of Dutch artists that are not from Amsterdam."
   ]
  },
  {
   "cell_type": "code",
   "execution_count": 6,
   "metadata": {},
   "outputs": [
    {
     "name": "stdout",
     "output_type": "stream",
     "text": [
      "20\n"
     ]
    }
   ],
   "source": [
    "%%bash\n",
    "grep Dutch data/art/artists.txt | grep -v 'Amsterdam' | wc -l"
   ]
  },
  {
   "cell_type": "markdown",
   "metadata": {},
   "source": [
    "### HW2: Sort the Italian painters in `artists.txt` by last name."
   ]
  },
  {
   "cell_type": "code",
   "execution_count": 8,
   "metadata": {},
   "outputs": [
    {
     "name": "stdout",
     "output_type": "stream",
     "text": [
      "ABBATE, Niccolò dell'\t(1509-1571)\tMannerism\tItalian painter (Bologna)\n",
      "ABBATI, Giuseppe\t(1836-1868)\tRealism\tItalian painter\n",
      "ABBATINI, Guido Ubaldo\t(c. 1602-1656)\tBaroque\tItalian painter (Rome)\n",
      "ADEMOLLO, Luigi\t(1764-1849)\tNeoclassicism\tItalian painter (Florence)\n",
      "ALBA, Macrino d'\t(c. 1460-c. 1528)\tEarly Renaissance\tItalian painter (Alba)\n",
      "ALBANI, Francesco\t(1578-1660)\tBaroque\tItalian painter (Bologna)\n",
      "ALBEREGNO, Jacobello\t(died before1397)\tMedieval\tItalian painter (Venice)\n",
      "ALBERTI, Antonio\t(c. 1390-c. 1442)\tEarly Renaissance\tItalian painter (Urbino)\n",
      "ALBERTI, Cherubino\t(1553-1615)\tMannerism\tItalian painter (Rome)\n",
      "ALBERTI, Giovanni\t(1558-1601)\tMannerism\tItalian painter (Rome)\n",
      "ALBERTINELLI, Mariotto\t(1474-1515)\tEarly Renaissance\tItalian painter (Florence)\n",
      "TADDEO DI BARTOLO\t(1362/63-1422)\tMedieval\tItalian painter (Siena)\n",
      "TAMAGNI, Vincenzo\t(1492-1530)\tHigh Renaissance\tItalian painter (San Gimignano)\n",
      "TANZIO DA VARALLO\t(c. 1580-c. 1632)\tBaroque\tItalian painter\n",
      "TARCHIANI, Filippo\t(1576-1645)\tBaroque\tItalian painter (Florence)\n",
      "TARUFFI, Emilio\t(1633-1696)\tBaroque\tItalian painter (Bologna)\n",
      "TASSI, Agostino\t(1578-1644)\tBaroque\tItalian painter (Rome)\n",
      "TEDESCO, Carlo (see SFERINI, Carlo Leopoldo)\t(1652-1698)\tBaroque\tItalian painter (Verona)\n",
      "TEDESCO, Giovanni Paolo (see SCHOR, Johann Paul)\t(1615-1674)\tBaroque\tItalian painter (Rome)\n",
      "TEMPESTA, Antonio\t(1555-1630)\tBaroque\tItalian painter (Florence)\n",
      "TERRENI, Giuseppe Maria\t(1739-1811)\tNeoclassicism\tItalian painter (Livorno)\n",
      "TERZIO, Francesco\t(c. 1523-1591)\tMannerism\tItalian painter (Vienna)\n",
      "TESTA, Pietro\t(1611-1650)\tBaroque\tItalian painter (Rome)\n"
     ]
    }
   ],
   "source": [
    "%%bash\n",
    "grep 'Italian painter' data/art/artists.txt > temp_Italian.txt\n",
    "sort temp_Italian.txt"
   ]
  },
  {
   "cell_type": "markdown",
   "metadata": {},
   "source": [
    "### HW3: Count how many Italian sculptors are *either* from the Medieval period or the Baroque period."
   ]
  },
  {
   "cell_type": "code",
   "execution_count": 19,
   "metadata": {},
   "outputs": [
    {
     "name": "stdout",
     "output_type": "stream",
     "text": [
      "KILIAN, Wolfgang\t(1581-1662)\tBaroque\tGerman graphic artist (Augsburg)\n",
      "KLEINER, Salomon\t(1703-1761)\tBaroque\tGerman graphic artist\n",
      "KLESECKER, Justus (see GLESKER, Justus)\t(c. 1615-1678)\tBaroque\tGerman sculptor (Franconia)\n",
      "TACCA, Ferdinando\t(1619-c. 1688)\tBaroque\tItalian sculptor (Florence)\n",
      "TACCA, Pietro\t(1577-1640)\tBaroque\tItalian sculptor (Florence)\n",
      "TACCONE, Paolo (see PAOLO ROMANO)\t(c. 1415-c. 1470)\tEarly Renaissance\tItalian sculptor (Rome)\n",
      "TADDEO DI BARTOLO\t(1362/63-1422)\tMedieval\tItalian painter (Siena)\n",
      "TADOLINI, Scipione\t(1822-1892)\tRealism\tItalian sculptor (Rome)\n",
      "TALENTI, Francesco\t(c. 1300-after 1369)\tMedieval\tItalian architect (Florence)\n",
      "TALENTI, Simone\t(c. 1330-after 1383)\tMedieval\tItalian architect (Florence)\n",
      "TALPA, Bartolo\t(active c. 1495)\tEarly Renaissance\tItalian sculptor (Mantua)\n",
      "TAMAGNINO, Antonio (see PORTA, Antonio della)\t(active 1489–1519)\tEarly Renaissance\tItalian sculptor\n",
      "TAMM, Franz Werner von\t(1658-1724)\tBaroque\tGerman painter\n",
      "TANZIO DA VARALLO\t(c. 1580-c. 1632)\tBaroque\tItalian painter\n",
      "TARAVAL, Guillaume-Thomas-Raphaël\t(1701-1750)\tBaroque\tFrench painter (Stockholm)\n",
      "TARCHIANI, Filippo\t(1576-1645)\tBaroque\tItalian painter (Florence)\n",
      "TARDIEU, Nicolas-Henry\t(1674-1749)\tBaroque\tFrench graphic artist (Paris)\n",
      "TARSIA, Antonio\t(c. 1662-1739)\tBaroque\tAustrian sculptor (Venice)\n",
      "TARUFFI, Emilio\t(1633-1696)\tBaroque\tItalian painter (Bologna)\n",
      "TASSEL, Jean\t(1608-1667)\tBaroque\tFrench painter (Langres)\n",
      "TASSI, Agostino\t(1578-1644)\tBaroque\tItalian painter (Rome)\n",
      "TEDESCO, Carlo (see SFERINI, Carlo Leopoldo)\t(1652-1698)\tBaroque\tItalian painter (Verona)\n",
      "TEDESCO, Giovanni Paolo (see SCHOR, Johann Paul)\t(1615-1674)\tBaroque\tItalian painter (Rome)\n",
      "TEMPEL, Abraham van den\t(1622/23-1672)\tBaroque\tDutch painter (Amsterdam)\n",
      "TEMPESTA, Antonio\t(1555-1630)\tBaroque\tItalian painter (Florence)\n",
      "TEMPESTA, Pietro (see MULIER, Pieter the Younger)\t(1637-1701)\tBaroque\tDutch painter (Italy)\n",
      "TENERANI, Pietro\t(1789-1869)\tNeoclassicism\tItalian sculptor\n",
      "TENGNAGEL, Jan\t(1584-1635)\tBaroque\tDutch painter (Amsterdam)\n",
      "TENIERS, Abraham\t(1629-1670)\tBaroque\tFlemish painter (Antwerp)\n",
      "TENIERS, David the Elder\t(1582-1649)\tBaroque\tFlemish painter (Antwerp)\n",
      "TENIERS, David the Younger\t(1610-1690)\tBaroque\tFlemish painter (Antwerp)\n",
      "TERBORCH, Gerard\t(1617-1681)\tBaroque\tDutch painter (Deventer)\n",
      "TERBRUGGHEN, Hendrick\t(1588-1629)\tBaroque\tDutch painter (Utrecht)\n",
      "TERILLI, Francesco\t(active 1610-1630)\tBaroque\tItalian sculptor (Feltre)\n",
      "TESSIN, Nicodemus the Elder\t(1615-1681)\tBaroque\tSwedish architect (Stockholm)\n",
      "TESSIN, Nicodemus the Younger\t(1654-1728)\tBaroque\tSwedish architect (Stockholm)\n",
      "TESTA, Pietro\t(1611-1650)\tBaroque\tItalian painter (Rome)\n",
      "TESTELIN, Henri\t(1616-1695)\tBaroque\tFrench painter\n",
      "KNELLER, Sir Godfrey\t(1646-1723)\tBaroque\tEnglish painter\n",
      "KNIJFF, Jacob\t(1639-1681)\tBaroque\tDutch painter (London)\n",
      "KNIJFF, Wouter\t(c. 1607-after 1693)\tBaroque\tDutch painter (Haarlem)\n",
      "KNOBELSDORFF, Georg Wenceslaus von\t(1699-1753)\tBaroque\tGerman architect (Berlin)\n",
      "KNÜPFER, Nicolaus\t(c. 1603-1655)\tBaroque\tDutch painter\n",
      "KNYFF, Jacob (see KNIJFF, Jacob)\t(1639-1681)\tBaroque\tDutch painter (London)\n",
      "KNYFF, Wouter (see KNIJFF, Wouter)\t(c. 1607-after 1693)\tBaroque\tDutch painter (Haarlem)\n",
      "KOEBERGER, Wenzel (see COBERGHER, Wenceslas)\t(c. 1560-1634)\tBaroque\tFlemish architect\n",
      "KOEDIJCK, Isaack\t(c. 1617-c. 1668)\tBaroque\tDutch painter (Amsterdam)\n",
      "KOETS, Roelof\t(c. 1592-1655)\tBaroque\tDutch painter (Haarlem)\n",
      "KOKORINOV, Alexander Filippovich\t(1726-1772)\tBaroque\tRussian architect (St. Petersburg)\n",
      "KOMPE, Jan ten (see COMPE, Jan ten)\t(1713-1761)\tBaroque\tDutch painter (Amsterdam)\n",
      "KÖNIG, Johann\t(1586-1642)\tBaroque\tGerman painter (Augsburg)\n",
      "KONINCK, Daniël de\t(1668-after 1720)\tBaroque\tDutch painter (London)\n",
      "KONINCK, David de (see CONINCK, David de)\t(c. 1644-c. 1701)\tBaroque\tFlemish painter\n",
      "KONINCK, Philips\t(1619-1688)\tBaroque\tDutch painter (Amsterdam)\n",
      "KONINCK, Salomon\t(1609-1656)\tBaroque\tDutch painter (Amsterdam)\n",
      "ABBATINI, Guido Ubaldo\t(c. 1602-1656)\tBaroque\tItalian painter (Rome)\n",
      "ABEELE, Pieter van\t(1608-1684)\tBaroque\tDutch sculptor (Amsterdam)\n",
      "ABONDIO, Antonio\t(1538-1591)\tMannerism\tItalian sculptor (Vienna)\n",
      "ACERO Y AREBO, Vicente\t(c. 1677-1739)\tBaroque\tSpanish architect\n",
      "ADAM, Lambert-Sigisbert\t(1700-1759)\tBaroque\tFrench sculptor (Nancy)\n",
      "ADAM, Nicolas-Sébastien\t(1705-1778)\tBaroque\tFrench sculptor (Nancy)\n",
      "ADAM, Robert\t(1728-1792)\tBaroque\tScottish architect (London)\n",
      "ADLER, Salomon\t(1630-1709)\tBaroque\tGerman painter (Milan)\n",
      "ADOLFZOON, Christoph (see ADOLPHI, Christoffel)\t(c. 1631-1680)\tBaroque\tDutch sculptor (Amsterdam)\n",
      "ADOLPHI, Christoffel\t(c. 1631-1680)\tBaroque\tDutch sculptor (Amsterdam)\n",
      "ADRIAEN VAN UTRECHT (see UTRECHT, Adriaen van)\t(1599-1652)\tBaroque\tFlemish painter\n",
      "ADRIAENSSEN, Alexander\t(1587-1661)\tBaroque\tFlemish painter (Antwerp)\n",
      "ADRIANO FIORENTINO\t(ca. 1455-1499)\tEarly Renaissance\tItalian sculptor (Florence)\n",
      "AELST, Willem van\t(1627-c. 1683)\tBaroque\tDutch painter (Delft)\n",
      "AENVANCK, Theodoor\t(1633-1690)\tBaroque\tFlemish painter (Antwerp)\n",
      "AGNOLO DA SIENA (see AGNOLO DI VENTURA)\t(active 1311-1349)\tMedieval\tItalian sculptor (Siena)\n",
      "AGNOLO DI POLO\t(c. 1470-after 1498)\tEarly Renaissance\tItalian sculptor (Florence)\n",
      "AGNOLO DI VENTURA\t(active 1311-1349)\tMedieval\tItalian sculptor (Siena)\n",
      "AGOSTINO DI DUCCIO\t(1418-1481)\tEarly Renaissance\tItalian sculptor (Rimini)\n",
      "AGOSTINO DI GIOVANNI\t(active 1310-1347)\tMedieval\tItalian sculptor (Siena)\n",
      "AGRATE, Gian Francesco Ferrari d'\t(1489-c. 1563)\tHigh Renaissance\tItalian sculptor (Parma)\n",
      "AKOTANTOS, Angelos\t(?-c. 1457)\tMedieval\tGreek painter (Crete)\n",
      "ALBANI, Francesco\t(1578-1660)\tBaroque\tItalian painter (Bologna)\n",
      "ALBEREGNO, Jacobello\t(died before1397)\tMedieval\tItalian painter (Venice)\n"
     ]
    }
   ],
   "source": [
    "%%bash\n",
    "grep 'Italian sculptor\\|Medieval\\|Baroque' data/art/artists.txt | less"
   ]
  },
  {
   "cell_type": "code",
   "execution_count": null,
   "metadata": {},
   "outputs": [],
   "source": []
  }
 ],
 "metadata": {
  "kernelspec": {
   "display_name": "Python 3",
   "language": "python",
   "name": "python3"
  },
  "language_info": {
   "codemirror_mode": {
    "name": "ipython",
    "version": 3
   },
   "file_extension": ".py",
   "mimetype": "text/x-python",
   "name": "python",
   "nbconvert_exporter": "python",
   "pygments_lexer": "ipython3",
   "version": "3.6.5"
  }
 },
 "nbformat": 4,
 "nbformat_minor": 2
}
